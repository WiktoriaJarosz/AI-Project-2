{
 "cells": [
  {
   "cell_type": "markdown",
   "metadata": {},
   "source": [
    "Step 1"
   ]
  },
  {
   "cell_type": "code",
   "execution_count": 1,
   "metadata": {},
   "outputs": [],
   "source": [
    "import networkx as nx\n",
    "import random\n",
    "import matplotlib.pyplot as plt"
   ]
  },
  {
   "cell_type": "code",
   "execution_count": 2,
   "metadata": {},
   "outputs": [],
   "source": [
    "def createRandomGraph(num_nodes, num_edges):\n",
    "    #create an empty graph\n",
    "    G = nx.Graph()\n",
    "\n",
    "    #add nodes to the graph\n",
    "    G.add_nodes_from(range(num_nodes))\n",
    "\n",
    "    #generate random edges until reaching the desired number of edges\n",
    "    edges_added = 0\n",
    "    while edges_added < num_edges:\n",
    "        #pick two random nodes\n",
    "        node1 = random.randint(0, num_nodes - 1)\n",
    "        node2 = random.randint(0, num_nodes - 1)\n",
    "        #if not the same node and there is no edge between them\n",
    "        if node1 != node2 and not G.has_edge(node1, node2):\n",
    "            #add edge\n",
    "            G.add_edge(node1, node2)\n",
    "            edges_added += 1\n",
    "\n",
    "    return G"
   ]
  },
  {
   "cell_type": "code",
   "execution_count": 3,
   "metadata": {},
   "outputs": [
    {
     "data": {
      "image/png": "[encoded data removed]",
      "text/plain": [
       "<Figure size 432x288 with 1 Axes>"
      ]
     },
     "metadata": {},
     "output_type": "display_data"
    }
   ],
   "source": [
    "#example:\n",
    "num_nodes = 10\n",
    "num_edges = 10\n",
    "test_graph = createRandomGraph(num_nodes, num_edges)\n",
    "\n",
    "#display\n",
    "nx.draw(test_graph, with_labels=True,node_color='y')\n",
    "plt.show()"
   ]
  },
  {
   "cell_type": "code",
   "execution_count": 4,
   "metadata": {},
   "outputs": [],
   "source": [
    "def assignColours(graph, num_colours):\n",
    "    #dictionary where nodes are keys and colours are values\n",
    "    colour_map = {}\n",
    "    colours = list(range(num_colours))\n",
    "    #assign a random colour from the list to each node\n",
    "    for node in graph.nodes():\n",
    "        colour_map[node] = random.choice(colours)\n",
    "        \n",
    "    return colour_map"
   ]
  },
  {
   "cell_type": "code",
   "execution_count": 5,
   "metadata": {},
   "outputs": [
    {
     "data": {
      "text/plain": [
       "{0: 3, 1: 2, 2: 2, 3: 1, 4: 1, 5: 2, 6: 1, 7: 1, 8: 1, 9: 3}"
      ]
     },
     "execution_count": 5,
     "metadata": {},
     "output_type": "execute_result"
    }
   ],
   "source": [
    "#example:\n",
    "colour_map = assignColours(test_graph, 4)\n",
    "colour_map"
   ]
  },
  {
   "cell_type": "code",
   "execution_count": 6,
   "metadata": {},
   "outputs": [],
   "source": [
    "def countConflicts(graph, colour_map):\n",
    "    conflicts = 0\n",
    "    #for each edge in graph\n",
    "    for edge in graph.edges():\n",
    "        #if nodes at either end of the edge are equal\n",
    "        if colour_map[edge[0]] == colour_map[edge[1]]:\n",
    "            #add to conflict count\n",
    "            conflicts += 1\n",
    "    return conflicts"
   ]
  },
  {
   "cell_type": "code",
   "execution_count": 7,
   "metadata": {},
   "outputs": [],
   "source": [
    "def localSearch(graph, initial_colour_map):\n",
    "    \"\"\"\n",
    "    Perform local search to improve the quality of the colouring.\n",
    "\n",
    "    Parameters:\n",
    "        graph (nx.Graph): Input graph.\n",
    "        initial_colour_map (dict): Initial colouring.\n",
    "\n",
    "    Returns:\n",
    "        dict: Improved colouring.\n",
    "    \"\"\"\n",
    "    #save number of colours\n",
    "    colours = set(initial_colour_map.values())\n",
    "    \n",
    "    #copy first colour map\n",
    "    colour_map = initial_colour_map.copy()\n",
    "    #initialise \"best\" version of colour map\n",
    "    best_colour_map = initial_colour_map.copy()\n",
    "    \n",
    "    #initialise \"best\" number of conflicts\n",
    "    best_conflicts = countConflicts(graph, initial_colour_map)\n",
    "\n",
    "    max_iterations = 100\n",
    "    #repeat max iterations times\n",
    "    for i in range(max_iterations):\n",
    "        #choose a random node\n",
    "        node = random.choice(list(graph.nodes()))\n",
    "        #save its colour\n",
    "        current_colour = colour_map[node]\n",
    "        #find all the neighbouring colours\n",
    "        current_neighbours_colours = {colour_map[neighbour] for neighbour in graph.neighbors(node)}\n",
    "        #available colours are colours that arent neighbouring node\n",
    "        available_colours = colours - current_neighbours_colours\n",
    "        #if there are available colours\n",
    "        if available_colours:\n",
    "            #set node as a random choice of available colours\n",
    "            new_colour = random.choice(list(available_colours))\n",
    "            colour_map[node] = new_colour\n",
    "        #if there are no available colours then keep current colour\n",
    "        conflicts = countConflicts(graph, colour_map)\n",
    "        #if there are less conflicts this iteration\n",
    "        if conflicts < best_conflicts:\n",
    "            #update \"best\" version to current version\n",
    "            best_colour_map = colour_map.copy()\n",
    "            #update conflicts\n",
    "            best_conflicts = conflicts\n",
    "            #break if no conflicts as we have found valid colouring\n",
    "            if conflicts == 0:\n",
    "                break\n",
    "    return best_colour_map"
   ]
  },
  {
   "cell_type": "code",
   "execution_count": 8,
   "metadata": {},
   "outputs": [
    {
     "name": "stdout",
     "output_type": "stream",
     "text": [
      "Initial colouring conflicts: 3\n",
      "Improved colouring conflicts: 0\n"
     ]
    }
   ],
   "source": [
    "#showing local_search improves conflicts even if small number of colours available\n",
    "initial_colour_map = assignColours(test_graph, 5)\n",
    "improved_colour_map = localSearch(test_graph, initial_colour_map)\n",
    "\n",
    "print(\"Initial colouring conflicts:\", countConflicts(test_graph, initial_colour_map))\n",
    "print(\"Improved colouring conflicts:\", countConflicts(test_graph, improved_colour_map))"
   ]
  },
  {
   "cell_type": "code",
   "execution_count": 9,
   "metadata": {},
   "outputs": [],
   "source": [
    "def chromaticNumber(graph, assigning_func):\n",
    "    #iterate through different number of colours and when there is 0 conflicts, \n",
    "    #return the number of colours\n",
    "    for i in list(range(1,10)):\n",
    "        initial_colour_map = assigning_func(graph, i)\n",
    "        improved_colour_map = localSearch(graph, initial_colour_map)\n",
    "        conflicts =  countConflicts(graph, improved_colour_map)\n",
    "        if conflicts == 0:\n",
    "            return i"
   ]
  },
  {
   "cell_type": "code",
   "execution_count": 10,
   "metadata": {},
   "outputs": [],
   "source": [
    "def averageChromNum(nodes, edges, assigning_func):\n",
    "    #create 10 random graphs\n",
    "    random_graphs = [createRandomGraph(nodes, edges) for i in range(10)]\n",
    "    chrom_nums = []\n",
    "\n",
    "    #calculate chromatic number for each and append to list\n",
    "    for i in random_graphs:\n",
    "        chrom_nums.append(chromaticNumber(i, assigning_func))\n",
    "\n",
    "    #calculate average\n",
    "    average_c_num = round(sum(chrom_nums)/10)\n",
    "    print(\"Using the\", assigning_func.__name__, \"function to assign colours.\")\n",
    "    print(\"Average chromatic number for 10 random graphs with {0} nodes and {1} edges is {2}\".format(nodes, edges, average_c_num))"
   ]
  },
  {
   "cell_type": "code",
   "execution_count": 11,
   "metadata": {},
   "outputs": [
    {
     "name": "stdout",
     "output_type": "stream",
     "text": [
      "Using the assignColours function to assign colours.\n",
      "Average chromatic number for 10 random graphs with 20 nodes and 10 edges is 2\n"
     ]
    }
   ],
   "source": [
    "#testing to see chromatic numbers of less connceted graphs\n",
    "nodes = 20\n",
    "edges = 10\n",
    "\n",
    "averageChromNum(nodes, edges, assignColours)"
   ]
  },
  {
   "cell_type": "code",
   "execution_count": 12,
   "metadata": {},
   "outputs": [
    {
     "name": "stdout",
     "output_type": "stream",
     "text": [
      "Using the assignColours function to assign colours.\n",
      "Average chromatic number for 10 random graphs with 20 nodes and 40 edges is 4\n"
     ]
    }
   ],
   "source": [
    "#testing to see chromatic numbers of more connected graphs\n",
    "nodes = 20\n",
    "edges = 40\n",
    "\n",
    "averageChromNum(nodes, edges, assignColours)"
   ]
  },
  {
   "cell_type": "markdown",
   "metadata": {},
   "source": [
    "Step 2"
   ]
  },
  {
   "cell_type": "code",
   "execution_count": 13,
   "metadata": {},
   "outputs": [],
   "source": [
    "def assignColoursDegree(graph, num_colours):\n",
    "    colour_map = {}\n",
    "    #sort nodes by degree in descending order\n",
    "    nodes_sorted_by_degree = sorted(graph.nodes(), key=lambda x: graph.degree(x), reverse=True)\n",
    "    #iterate through sorted nodes\n",
    "    for node in nodes_sorted_by_degree:\n",
    "        #find neighbours\n",
    "        neighbors_colours = {colour_map[neighbor] for neighbor in graph.neighbors(node) if neighbor in colour_map}\n",
    "        #find available colours\n",
    "        available_colours = set(range(num_colours)) - neighbors_colours\n",
    "        #if there are available colours\n",
    "        if available_colours:\n",
    "            #colour with \"lowest\" colour\n",
    "            colour_map[node] = min(available_colours)\n",
    "        else:\n",
    "            #choose random colour\n",
    "            colour_map[node] = random.choice(list(range(num_colours)))\n",
    "    return colour_map"
   ]
  },
  {
   "cell_type": "code",
   "execution_count": 14,
   "metadata": {},
   "outputs": [
    {
     "name": "stdout",
     "output_type": "stream",
     "text": [
      "Initial colouring conflicts: 0\n",
      "Improved colouring conflicts: 0\n"
     ]
    }
   ],
   "source": [
    "#showing local_search improves conflicts even if small number of colours available\n",
    "initial_colour_map = assignColoursDegree(test_graph, 5)\n",
    "improved_colour_map = localSearch(test_graph, initial_colour_map)\n",
    "\n",
    "print(\"Initial colouring conflicts:\", countConflicts(test_graph, initial_colour_map))\n",
    "print(\"Improved colouring conflicts:\", countConflicts(test_graph, improved_colour_map))"
   ]
  },
  {
   "cell_type": "code",
   "execution_count": 15,
   "metadata": {},
   "outputs": [
    {
     "name": "stdout",
     "output_type": "stream",
     "text": [
      "Using the assignColoursDegree function to assign colours.\n",
      "Average chromatic number for 10 random graphs with 20 nodes and 10 edges is 2\n"
     ]
    }
   ],
   "source": [
    "#testing to see chromatic numbers of less connected graphs\n",
    "nodes = 20\n",
    "edges = 10\n",
    "\n",
    "averageChromNum(nodes, edges, assignColoursDegree)"
   ]
  },
  {
   "cell_type": "code",
   "execution_count": 16,
   "metadata": {},
   "outputs": [
    {
     "name": "stdout",
     "output_type": "stream",
     "text": [
      "Using the assignColoursDegree function to assign colours.\n",
      "Average chromatic number for 10 random graphs with 20 nodes and 40 edges is 4\n"
     ]
    }
   ],
   "source": [
    "#testing to see chromatic numbers of more connected graphs\n",
    "nodes = 20\n",
    "edges = 40\n",
    "\n",
    "averageChromNum(nodes, edges, assignColoursDegree)"
   ]
  },
  {
   "cell_type": "code",
   "execution_count": null,
   "metadata": {},
   "outputs": [],
   "source": []
  },
  {
   "cell_type": "code",
   "execution_count": null,
   "metadata": {},
   "outputs": [],
   "source": []
  },
  {
   "cell_type": "code",
   "execution_count": null,
   "metadata": {},
   "outputs": [],
   "source": []
  }
 ],
 "metadata": {
  "kernelspec": {
   "display_name": "Python 3",
   "language": "python",
   "name": "python3"
  },
  "language_info": {
   "codemirror_mode": {
    "name": "ipython",
    "version": 3
   },
   "file_extension": ".py",
   "mimetype": "text/x-python",
   "name": "python",
   "nbconvert_exporter": "python",
   "pygments_lexer": "ipython3",
   "version": "3.8.3"
  }
 },
 "nbformat": 4,
 "nbformat_minor": 4
}
